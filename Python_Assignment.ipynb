{
  "nbformat": 4,
  "nbformat_minor": 0,
  "metadata": {
    "colab": {
      "provenance": []
    },
    "kernelspec": {
      "name": "python3",
      "display_name": "Python 3"
    },
    "language_info": {
      "name": "python"
    }
  },
  "cells": [
    {
      "cell_type": "code",
      "execution_count": null,
      "metadata": {
        "id": "PnVCHH6zTHct"
      },
      "outputs": [],
      "source": []
    },
    {
      "cell_type": "markdown",
      "source": [
        "Theoretical Questions\n",
        "\n",
        "1. What is Python, and why is it popular ?\n",
        "   \n",
        "   - Python is a versatile, high-level programming language which is known for its readability and ease of use. Due to its versatality, it is used for web development, data science, machine learning and many more.\n",
        "   - It is Popular beacuse:\n",
        "   -  It is easy to learn\n",
        "   -  It has a lot of liabraries( i.e a piece of code that can be reused) like pandas, numpy, matplotlib, Pytorch, etc.\n",
        "   - It has clean and straightforward syntax\n",
        "   - It is a beginner-friendly nature which make it an ideal choice for programming freshers.\n",
        "   - It can run on many different platforms.\n",
        "   - It is a most popular programming language for data science.\n",
        "\n",
        "2. What is an interpreter in Python ?\n",
        "\n",
        " - It is a program that reads and executespython code line by line, translating it into machine-readable instructions for the system to understand and run.\n",
        "\n",
        "3. What are pre-defined keywords in Python?\n",
        "\n",
        " - Pre-defined keywords hold a special meaning nad have specific purpose.\n",
        "   The list of pre-defined keywords are mentioned below:\n",
        "   \n",
        "    False, None,True, and, as, assert, async, await, break, class, continue, def, elif, else, except, finally, for, from, global, if, import, in, is, lambda, nonlocal, not, or, pass, raise, return, try, while, with, yield.\n",
        "\n",
        "4. Can keywords be used as variable names ?\n",
        "\n",
        " - Keywords define the language's syntax rules and structure, so it can not be used as a variable name. If keywords are used as a variable names it will cause a SyntaxError.\n",
        "\n",
        "5. What is mutability in Python ?\n",
        "\n",
        "  - The ability of objects/container whose state or value can be changed after they are created are called as mutability.\n",
        "  - Examples of mutablity are lists, dictonaries and sets\n",
        "\n",
        "6. Why are lists mutable, but tuples are immutable ?\n",
        "\n",
        " - lists are mutable because it uses square bracket and the objects are modified or altered in lists but tuples use paranthesis and the it can not be modified after tuples are created.\n",
        "\n",
        "7. What is the difference between “==” and “is” operators in Python ?\n",
        "\n",
        " - \"==\" is an equality operator which check whether the two objects have the same value. It returns True if the values are the same otherwise False.\n",
        " - Eg: a = 2\n",
        "       b = 3\n",
        "       a == b\n",
        "       -> False\n",
        "  - \"is\" is an identity operator which used to compare the objects whether both the objects are of the same data type and share the same memory location.\n",
        "  - Eg: a = 2\n",
        "        b = a\n",
        "        a is b\n",
        "        -> True\n",
        "\n",
        "8. What are logical operators in Python ?\n",
        "\n",
        "  - Logical operators \"AND\" , \"OR\" , \"NOT\" are used to combine conditional statements which allow you to perform operations based on multiple conditions.\n",
        "  - AND : Returns True if both the operands are true, else false.\n",
        "  - OR : Returns True if atleast one operand is True, else false.\n",
        "  - NOT : Inverts the truth value of its operand i.e returns True if operand is False and returns False if operand is True.\n",
        "\n",
        "9. What is type casting in Python ?\n",
        "\n",
        " - Type casting is used to change the format or data type of variable from one type to another i.e. converting a string to an integer, float.\n",
        " - int() : converts a string or float to an integer\n",
        " - float() : converts an integer or string to a float\n",
        " - string() : converts an integer or float to a string\n",
        " - All the above three are built-in functions in python.\n",
        "\n",
        "10. What is the difference between implicit and explicit type casting ?\n",
        "\n",
        " - Implicit type casting : Python converts or change the datatype into another datatype automatically. User do not have to invlove in this process.\n",
        " - eg. a = 3\n",
        "       print(type(a))\n",
        "       -> <class 'int'>\n",
        " - Explicit type casting : In this method, Python needs user involvement to convert the variable data type into the required data type.\n",
        "  - int(), float(), string()\n",
        "\n",
        "11. What is the purpose of conditional statements in Python ?\n",
        "\n",
        "  - Conditional statemnets in python are used to execute certain blocks of code based on specific conditions. These statements help to control the flow of a program to make it behave differently in different situations.\n",
        "  - Conditional statements are:\n",
        "  - if\n",
        "  - if-else\n",
        "  - if-elseif-else\n",
        "  - nested if-else\n",
        "\n",
        "12. How does the elif statement work ?\n",
        "\n",
        " - It stands for \"else-if\". It allows to check multiple conditions, providing a way to execute different blocks of code based on which condition is true.\n",
        "\n",
        "13. What is the difference between for and while loops ?\n",
        "\n",
        " - \"for\" loop used for iterating over a sequesnce like lists, tuples, strings and ranges. It allows you to apply the same operation to every within the loop.\n",
        "\n",
        " - \"while\" loop used to execute a block of statements repeatedly until a given condition is satisfied. When a condition becomes false, the line immediately after the loop in the program is executed.\n",
        "\n",
        "14. Describe a scenario where a while loop is more suitable than a for loop ?\n",
        "\n",
        "- We can use the \"for\" loop when we know the number of  iterations or how many times the loop should run but when the iterations are not predetermined and if we want the loop to break based on the certain condition then we have to use \"while\" loop.\n",
        "\n",
        "\n",
        "\n",
        "\n",
        "\n",
        "   \n",
        "\n",
        "\n"
      ],
      "metadata": {
        "id": "DOL5FAZJTNhN"
      }
    },
    {
      "cell_type": "markdown",
      "source": [
        "Practical Questions"
      ],
      "metadata": {
        "id": "YhftUsUQeLj8"
      }
    },
    {
      "cell_type": "code",
      "source": [
        "# Python program to print \"Hello world\"\n",
        "\n",
        "print(\"Hello, world!\")"
      ],
      "metadata": {
        "colab": {
          "base_uri": "https://localhost:8080/"
        },
        "id": "E25Jl8j07BsG",
        "outputId": "50f85f03-0ec9-4092-b400-4c5642931103"
      },
      "execution_count": 1,
      "outputs": [
        {
          "output_type": "stream",
          "name": "stdout",
          "text": [
            "Hello, world!\n"
          ]
        }
      ]
    },
    {
      "cell_type": "markdown",
      "source": [],
      "metadata": {
        "id": "Bsv28CgXbgrt"
      }
    },
    {
      "cell_type": "code",
      "source": [
        "# Write a Python program that displays your name and age\n",
        "\n",
        "print(\"My name is Samiksha and I am 29 years old\")"
      ],
      "metadata": {
        "colab": {
          "base_uri": "https://localhost:8080/"
        },
        "id": "HB1yagOp8Ud_",
        "outputId": "b7bfa1ec-e955-4fab-b822-48684b9af903"
      },
      "execution_count": 5,
      "outputs": [
        {
          "output_type": "stream",
          "name": "stdout",
          "text": [
            "My name is Samiksha and I am 29 years old\n"
          ]
        }
      ]
    },
    {
      "cell_type": "code",
      "source": [
        "# Write code to print all the pre-defined keywords in Python using the keyword library\n",
        "\n",
        "help('keywords')"
      ],
      "metadata": {
        "colab": {
          "base_uri": "https://localhost:8080/"
        },
        "id": "3CVzxrod-wJf",
        "outputId": "1618ddfa-d582-4abf-cdd4-7ad279582a1d"
      },
      "execution_count": 6,
      "outputs": [
        {
          "metadata": {
            "tags": null
          },
          "name": "stdout",
          "output_type": "stream",
          "text": [
            "\n",
            "Here is a list of the Python keywords.  Enter any keyword to get more help.\n",
            "\n",
            "False               class               from                or\n",
            "None                continue            global              pass\n",
            "True                def                 if                  raise\n",
            "and                 del                 import              return\n",
            "as                  elif                in                  try\n",
            "assert              else                is                  while\n",
            "async               except              lambda              with\n",
            "await               finally             nonlocal            yield\n",
            "break               for                 not                 \n",
            "\n"
          ]
        }
      ]
    },
    {
      "cell_type": "code",
      "source": [
        "# Write a program that checks if a given word is a Python keyword\n",
        "\n",
        "import keyword\n",
        "a = input(\"enter any word: \")\n",
        "if keyword.iskeyword(a):\n",
        "    print(\"Entered word is a keyword\")\n",
        "else:\n",
        "    print(\"Entered word is not keyword\")\n"
      ],
      "metadata": {
        "colab": {
          "base_uri": "https://localhost:8080/"
        },
        "id": "zrDh1XED_p0r",
        "outputId": "82742e52-89f6-4007-d984-449fe073d863"
      },
      "execution_count": 8,
      "outputs": [
        {
          "output_type": "stream",
          "name": "stdout",
          "text": [
            "enter any word: True\n",
            "Entered word is a keyword\n"
          ]
        }
      ]
    },
    {
      "cell_type": "code",
      "source": [
        "# Create a list and tuple in Python, and demonstrate how attempting to change an element works differently\n",
        "# for each\n",
        "\n",
        "list_name = [1,2,3,4,\"Samiksha\",4.5,9]\n",
        "print(list_name)"
      ],
      "metadata": {
        "colab": {
          "base_uri": "https://localhost:8080/"
        },
        "id": "v1rj56L8Dt-t",
        "outputId": "dffbdd27-d1d4-4aa4-b42b-60cbe119ff1c"
      },
      "execution_count": 10,
      "outputs": [
        {
          "output_type": "stream",
          "name": "stdout",
          "text": [
            "[1, 2, 3, 4, 'Samiksha', 4.5, 9]\n"
          ]
        }
      ]
    },
    {
      "cell_type": "code",
      "source": [
        "# chnage the name \"Samiksha\" to \"Sagar\"\n",
        "\n",
        "list_name[4] = \"Sagar\"\n",
        "print(list_name)"
      ],
      "metadata": {
        "colab": {
          "base_uri": "https://localhost:8080/"
        },
        "id": "_QxCXN6CFaAU",
        "outputId": "23a2ead2-de77-491a-c275-0a6a1a98d4b0"
      },
      "execution_count": 11,
      "outputs": [
        {
          "output_type": "stream",
          "name": "stdout",
          "text": [
            "[1, 2, 3, 4, 'Sagar', 4.5, 9]\n"
          ]
        }
      ]
    },
    {
      "cell_type": "code",
      "source": [
        "# Tuples\n",
        "\n",
        "tuple_name = (1,2,3,4,\"Samiksha\",4.5,9)\n",
        "print(tuple_name)"
      ],
      "metadata": {
        "colab": {
          "base_uri": "https://localhost:8080/"
        },
        "id": "wsOyuI3HFy8Q",
        "outputId": "ab4fc2dd-9b91-4b69-ddae-ca5293358325"
      },
      "execution_count": 12,
      "outputs": [
        {
          "output_type": "stream",
          "name": "stdout",
          "text": [
            "(1, 2, 3, 4, 'Samiksha', 4.5, 9)\n"
          ]
        }
      ]
    },
    {
      "cell_type": "code",
      "source": [
        "# chnage the name \"Samiksha\" to \"Sagar\"\n",
        "\n",
        "tuple_name[4] = \"Sagar\"\n",
        "print(tuple_name) # gives an error as the tuples are immutable"
      ],
      "metadata": {
        "colab": {
          "base_uri": "https://localhost:8080/",
          "height": 193
        },
        "id": "rnfKTRo_F8fc",
        "outputId": "5ab92664-3b4e-49ef-bf15-0701d6cab2b9"
      },
      "execution_count": 13,
      "outputs": [
        {
          "output_type": "error",
          "ename": "TypeError",
          "evalue": "'tuple' object does not support item assignment",
          "traceback": [
            "\u001b[0;31m---------------------------------------------------------------------------\u001b[0m",
            "\u001b[0;31mTypeError\u001b[0m                                 Traceback (most recent call last)",
            "\u001b[0;32m<ipython-input-13-e2351de1ca62>\u001b[0m in \u001b[0;36m<cell line: 0>\u001b[0;34m()\u001b[0m\n\u001b[1;32m      1\u001b[0m \u001b[0;31m# chnage the name \"Samiksha\" to \"Sagar\"\u001b[0m\u001b[0;34m\u001b[0m\u001b[0;34m\u001b[0m\u001b[0m\n\u001b[1;32m      2\u001b[0m \u001b[0;34m\u001b[0m\u001b[0m\n\u001b[0;32m----> 3\u001b[0;31m \u001b[0mtuple_name\u001b[0m\u001b[0;34m[\u001b[0m\u001b[0;36m4\u001b[0m\u001b[0;34m]\u001b[0m \u001b[0;34m=\u001b[0m \u001b[0;34m\"Sagar\"\u001b[0m\u001b[0;34m\u001b[0m\u001b[0;34m\u001b[0m\u001b[0m\n\u001b[0m\u001b[1;32m      4\u001b[0m \u001b[0mprint\u001b[0m\u001b[0;34m(\u001b[0m\u001b[0mtuple_name\u001b[0m\u001b[0;34m)\u001b[0m\u001b[0;34m\u001b[0m\u001b[0;34m\u001b[0m\u001b[0m\n",
            "\u001b[0;31mTypeError\u001b[0m: 'tuple' object does not support item assignment"
          ]
        }
      ]
    },
    {
      "cell_type": "code",
      "source": [
        "# Write a function to demonstrate the behavior of mutable and immutable\n",
        "\n",
        "b = \"Mumbai\" #immutable\n",
        "b[0] = \"m\""
      ],
      "metadata": {
        "colab": {
          "base_uri": "https://localhost:8080/",
          "height": 176
        },
        "id": "K8-rBlK5GQqI",
        "outputId": "f1771d2c-bc3b-49fc-d206-5dea0c967f89"
      },
      "execution_count": 14,
      "outputs": [
        {
          "output_type": "error",
          "ename": "TypeError",
          "evalue": "'str' object does not support item assignment",
          "traceback": [
            "\u001b[0;31m---------------------------------------------------------------------------\u001b[0m",
            "\u001b[0;31mTypeError\u001b[0m                                 Traceback (most recent call last)",
            "\u001b[0;32m<ipython-input-14-7525ce3438c0>\u001b[0m in \u001b[0;36m<cell line: 0>\u001b[0;34m()\u001b[0m\n\u001b[1;32m      2\u001b[0m \u001b[0;34m\u001b[0m\u001b[0m\n\u001b[1;32m      3\u001b[0m \u001b[0mb\u001b[0m \u001b[0;34m=\u001b[0m \u001b[0;34m\"Mumbai\"\u001b[0m\u001b[0;34m\u001b[0m\u001b[0;34m\u001b[0m\u001b[0m\n\u001b[0;32m----> 4\u001b[0;31m \u001b[0mb\u001b[0m\u001b[0;34m[\u001b[0m\u001b[0;36m0\u001b[0m\u001b[0;34m]\u001b[0m \u001b[0;34m=\u001b[0m \u001b[0;34m\"m\"\u001b[0m\u001b[0;34m\u001b[0m\u001b[0;34m\u001b[0m\u001b[0m\n\u001b[0m",
            "\u001b[0;31mTypeError\u001b[0m: 'str' object does not support item assignment"
          ]
        }
      ]
    },
    {
      "cell_type": "code",
      "source": [
        "list = [1,2,3,4]\n",
        "list[1] = \"b\"\n",
        "print(list)"
      ],
      "metadata": {
        "colab": {
          "base_uri": "https://localhost:8080/"
        },
        "id": "Q4O7rzDbGQXZ",
        "outputId": "8d138c50-3936-4bcf-87f0-8e7e114d7d4b"
      },
      "execution_count": 16,
      "outputs": [
        {
          "output_type": "stream",
          "name": "stdout",
          "text": [
            "[1, 'b', 3, 4]\n"
          ]
        }
      ]
    },
    {
      "cell_type": "code",
      "source": [
        "# Write a program to demonstrate the use of logical operators\n",
        "\n",
        "a = 10\n",
        "b = 4\n",
        "c = 50\n",
        "if a>20 and b<20:\n",
        "  print(\"AND condition is fulfilled\")\n",
        "else:\n",
        "  print(\"AND condition is not fulfilled\")\n",
        "if a<c or b>c:\n",
        "  print(\"OR condition is fulfilled\")\n",
        "else:\n",
        "  print(\"OR condition is not fulfilled\")\n",
        "if not(a<b):\n",
        "  print(\"NOT condition is fulfilled\")"
      ],
      "metadata": {
        "colab": {
          "base_uri": "https://localhost:8080/"
        },
        "id": "b3jMg704II1p",
        "outputId": "431c7870-9139-41a7-a4f9-9e30bcbd7598"
      },
      "execution_count": 19,
      "outputs": [
        {
          "output_type": "stream",
          "name": "stdout",
          "text": [
            "AND condition is not fulfilled\n",
            "OR condition is fulfilled\n",
            "NOT condition is fulfilled\n"
          ]
        }
      ]
    },
    {
      "cell_type": "code",
      "source": [
        "# Write a Python program to convert user input from string to integer, float, and boolean types\n",
        "\n",
        "name = input(\"Enter your age: \")\n",
        "print(name,type(name))"
      ],
      "metadata": {
        "colab": {
          "base_uri": "https://localhost:8080/"
        },
        "id": "fYEIlCFNMXeD",
        "outputId": "dd67e4c3-9dd6-4bf2-80eb-a3e28ed4d490"
      },
      "execution_count": 31,
      "outputs": [
        {
          "output_type": "stream",
          "name": "stdout",
          "text": [
            "Enter your age: 29\n",
            "29 <class 'str'>\n"
          ]
        }
      ]
    },
    {
      "cell_type": "code",
      "source": [
        "# change to intger\n",
        "\n",
        "age = int(input(\"Enter yor age: \"))\n",
        "print(age,type(age))"
      ],
      "metadata": {
        "colab": {
          "base_uri": "https://localhost:8080/"
        },
        "id": "SGDnW3wBM8Ud",
        "outputId": "d4cb635c-7aba-49a1-8474-febdbbb7f546"
      },
      "execution_count": 30,
      "outputs": [
        {
          "output_type": "stream",
          "name": "stdout",
          "text": [
            "Enter yor age: 29\n",
            "29 <class 'int'>\n"
          ]
        }
      ]
    },
    {
      "cell_type": "code",
      "source": [
        "# change to float\n",
        "\n",
        "age = float(input(\"Enter yor age: \"))\n",
        "print(age,type(age))\n"
      ],
      "metadata": {
        "colab": {
          "base_uri": "https://localhost:8080/"
        },
        "id": "oTMl8KKoQchU",
        "outputId": "397756f3-92a2-4faf-945b-59c5cf3347ec"
      },
      "execution_count": 32,
      "outputs": [
        {
          "output_type": "stream",
          "name": "stdout",
          "text": [
            "Enter yor age: 29\n",
            "29.0 <class 'float'>\n"
          ]
        }
      ]
    },
    {
      "cell_type": "code",
      "source": [
        "age = bool(input(\"Enter yor age: \"))\n",
        "print(age,type(age))"
      ],
      "metadata": {
        "colab": {
          "base_uri": "https://localhost:8080/"
        },
        "id": "Y7QDYPVZQoju",
        "outputId": "9196a6d9-0a6f-47d2-b06f-e6bd434344cd"
      },
      "execution_count": 33,
      "outputs": [
        {
          "output_type": "stream",
          "name": "stdout",
          "text": [
            "Enter yor age: 29\n",
            "True <class 'bool'>\n"
          ]
        }
      ]
    },
    {
      "cell_type": "code",
      "source": [
        "# Write a program that checks if a number is positive, negative, or zero\n",
        "\n",
        "x = int(input(\" Enter any number: \"))\n",
        "if x>0:\n",
        "  print(\"Number is positive\")\n",
        "elif x<0:\n",
        "  print(\"Number is negative\")\n",
        "else:\n",
        "  print(\"Number is zero\")"
      ],
      "metadata": {
        "colab": {
          "base_uri": "https://localhost:8080/"
        },
        "id": "-HpwknNORZVj",
        "outputId": "82e1f470-b142-401e-b44a-b57b17fe668e"
      },
      "execution_count": 42,
      "outputs": [
        {
          "output_type": "stream",
          "name": "stdout",
          "text": [
            " Enter any number: -1\n",
            "Number is negative\n"
          ]
        }
      ]
    },
    {
      "cell_type": "code",
      "source": [
        "#  Write a for loop to print numbers from 1 to 10\n",
        "\n",
        "for number in range(10):\n",
        "  print(number+1, \" \")\n"
      ],
      "metadata": {
        "colab": {
          "base_uri": "https://localhost:8080/"
        },
        "id": "L4z5IgcVTbIE",
        "outputId": "01094e75-7c52-4b40-ab40-0e47da36c8a9"
      },
      "execution_count": 46,
      "outputs": [
        {
          "output_type": "stream",
          "name": "stdout",
          "text": [
            "1  \n",
            "2  \n",
            "3  \n",
            "4  \n",
            "5  \n",
            "6  \n",
            "7  \n",
            "8  \n",
            "9  \n",
            "10  \n"
          ]
        }
      ]
    },
    {
      "cell_type": "code",
      "source": [
        "# Write a Python program to find the sum of all even numbers between 1 and 50\n",
        "\n",
        "a=0\n",
        "for num in range(50):\n",
        "  num = num+1\n",
        "  if(num % 2 == 0):\n",
        "    a = a+num\n",
        "print(\"Sum of all even numbers are \", a)"
      ],
      "metadata": {
        "colab": {
          "base_uri": "https://localhost:8080/"
        },
        "id": "3RfJIjyIUTYq",
        "outputId": "939c2c40-6314-4aad-c1bb-151a3a2976a6"
      },
      "execution_count": 52,
      "outputs": [
        {
          "output_type": "stream",
          "name": "stdout",
          "text": [
            "Sum of all even numbers are  650\n"
          ]
        }
      ]
    },
    {
      "cell_type": "code",
      "source": [
        "# Write a program to reverse a string using a while loop\n",
        "\n",
        "name = \"Samiksha\"\n",
        "reverse = \"\"\n",
        "length = len(name)-1\n",
        "while length >= 0:\n",
        "  reverse = reverse + name[length]\n",
        "  length = length-1\n",
        "print(\"String is reversed: \",reverse)"
      ],
      "metadata": {
        "colab": {
          "base_uri": "https://localhost:8080/"
        },
        "id": "dcfJlaf9Ylkk",
        "outputId": "ff0097d7-0902-4220-bf6d-6f99ef57a2a7"
      },
      "execution_count": 54,
      "outputs": [
        {
          "output_type": "stream",
          "name": "stdout",
          "text": [
            "String is reversed:  ahskimaS\n"
          ]
        }
      ]
    },
    {
      "cell_type": "code",
      "source": [
        "#  Write a Python program to calculate the factorial of a number provided by the user using a while loop\n",
        "\n",
        "number =  int(input(\"Enter any number: \"))\n",
        "factorial = 1\n",
        "while number > 0:\n",
        "  factorial = factorial*number\n",
        "  number = number-1\n",
        "print(\"Factorial of the number is: \", factorial)"
      ],
      "metadata": {
        "colab": {
          "base_uri": "https://localhost:8080/"
        },
        "id": "iQRxlA67dnzM",
        "outputId": "a1964e6d-3c8c-4a42-d343-eaa3160ca636"
      },
      "execution_count": 57,
      "outputs": [
        {
          "output_type": "stream",
          "name": "stdout",
          "text": [
            "Enter any number: 8\n",
            "Factorial of the number is:  40320\n"
          ]
        }
      ]
    }
  ]
}